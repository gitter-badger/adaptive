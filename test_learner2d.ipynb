{
 "cells": [
  {
   "cell_type": "code",
   "execution_count": null,
   "metadata": {},
   "outputs": [],
   "source": [
    "import holoviews as hv\n",
    "hv.notebook_extension()"
   ]
  },
  {
   "cell_type": "code",
   "execution_count": null,
   "metadata": {},
   "outputs": [],
   "source": [
    "from test_learner2d import *"
   ]
  },
  {
   "cell_type": "code",
   "execution_count": null,
   "metadata": {},
   "outputs": [],
   "source": [
    "adaptive.notebook_extension()"
   ]
  },
  {
   "cell_type": "markdown",
   "metadata": {},
   "source": [
    "#### define bounds and peaks"
   ]
  },
  {
   "cell_type": "code",
   "execution_count": null,
   "metadata": {},
   "outputs": [],
   "source": [
    "# relevant parameters\n",
    "discovery_factor = 50 # how difficult to find are the peaks\n",
    "min_resolution = 2 # minimum resolution 2 means calculate first only the bounds\n",
    "num_peaks = 5"
   ]
  },
  {
   "cell_type": "code",
   "execution_count": null,
   "metadata": {},
   "outputs": [],
   "source": [
    "bounds = [(-1, 1), (-1, 1)]\n",
    "total_area = (bounds[0][1] - bounds[0][0]) * (bounds[1][1] - bounds[1][0])\n",
    "np.random.seed(0)\n",
    "\n",
    "min_area = (total_area / min_resolution ** 2) / discovery_factor\n",
    "radius = (min_area / np.pi) ** 0.5\n",
    "tol = min_area / 2\n",
    "# random peaks\n",
    "box = (1-4*radius) # ensure peaks inside the area\n",
    "xy0 = np.ndarray((num_peaks, 2))\n",
    "for i in range(num_peaks):\n",
    "    xy0[i] = (2*np.random.rand(2) - 1) * box"
   ]
  },
  {
   "cell_type": "markdown",
   "metadata": {},
   "source": [
    "#### test func = cauchy"
   ]
  },
  {
   "cell_type": "code",
   "execution_count": null,
   "metadata": {},
   "outputs": [],
   "source": [
    "# for func in [cauchy(xy0, radius), normal(xy0, radius)]:\n",
    "func = partial(cauchy, xy0=xy0, radius=radius)\n",
    "learner = adaptive.learner.Learner2D(func, bounds=bounds)\n",
    "\n",
    "runner = adaptive.Runner(learner, executor=executor,\n",
    "                        goal=lambda l: l.loss() < tol)\n",
    "sleep(1)"
   ]
  },
  {
   "cell_type": "code",
   "execution_count": null,
   "metadata": {},
   "outputs": [],
   "source": [
    "if runner.task.done() is False:\n",
    "    sleep(0.5)"
   ]
  },
  {
   "cell_type": "code",
   "execution_count": null,
   "metadata": {},
   "outputs": [],
   "source": [
    "found_peaks = learner.unscale(peak_finder(learner.ip()))\n",
    "# peaks found can be nearly degenerate, and the number can be\n",
    "# greater than num_peaks\n",
    "# The number of peaks found can be smaller than num_peaks, if some\n",
    "# peak in xy0 is nearly degenerate, or if some peak is not found,\n",
    "# in which case the test fails\n",
    "deviations = np.ndarray(num_peaks)\n",
    "for i in range(num_peaks):\n",
    "    deviations[i] = np.linalg.norm(xy0[i] - found_peaks, axis=-1).min()"
   ]
  },
  {
   "cell_type": "code",
   "execution_count": null,
   "metadata": {},
   "outputs": [],
   "source": [
    "%%opts Scatter (size=5)\n",
    "# density plot, with blue dots as real peaks, and red dots as found peaks\n",
    "learner.plot() * hv.Scatter(xy0) * hv.Scatter((learner.unscale(peak_finder(learner.ip()))))"
   ]
  },
  {
   "cell_type": "code",
   "execution_count": null,
   "metadata": {},
   "outputs": [],
   "source": [
    "assert np.all(deviations < radius)"
   ]
  },
  {
   "cell_type": "code",
   "execution_count": null,
   "metadata": {},
   "outputs": [],
   "source": [
    "executor.shutdown()"
   ]
  },
  {
   "cell_type": "markdown",
   "metadata": {},
   "source": [
    "#### test func = normal"
   ]
  },
  {
   "cell_type": "code",
   "execution_count": null,
   "metadata": {},
   "outputs": [],
   "source": [
    "executor = ProcessPoolExecutor(max_workers=1)"
   ]
  },
  {
   "cell_type": "code",
   "execution_count": null,
   "metadata": {},
   "outputs": [],
   "source": [
    "def normal(xy, xy0, radius):\n",
    "    xy0 = np.atleast_2d(xy0)\n",
    "    sigma = radius / 2\n",
    "    num_peaks = xy0.shape[0]\n",
    "    x, y = xy\n",
    "    result = 0\n",
    "    for i in range(num_peaks):\n",
    "        x0, y0 = xy0[i]\n",
    "        result += (1 / (2 * np.pi * sigma**2) *\n",
    "                np.exp(-((x-x0) ** 2 + (y-y0) ** 2) /\n",
    "                        (2 * sigma**2)))\n",
    "    return result"
   ]
  },
  {
   "cell_type": "code",
   "execution_count": null,
   "metadata": {},
   "outputs": [],
   "source": [
    "# for func in [cauchy(xy0, radius), normal(xy0, radius)]:\n",
    "func = partial(normal, xy0=xy0, radius=radius)\n",
    "learner = adaptive.learner.Learner2D(func, bounds=bounds)\n",
    "\n",
    "runner = adaptive.Runner(learner, executor=executor,\n",
    "                        goal=lambda l: l.loss() < tol)\n",
    "sleep(1)"
   ]
  },
  {
   "cell_type": "code",
   "execution_count": null,
   "metadata": {},
   "outputs": [],
   "source": [
    "if runner.task.done() is False:\n",
    "    sleep(0.5)"
   ]
  },
  {
   "cell_type": "code",
   "execution_count": null,
   "metadata": {},
   "outputs": [],
   "source": [
    "found_peaks = learner.unscale(peak_finder(learner.ip()))\n",
    "# peaks found can be nearly degenerate, and the number can be\n",
    "# greater than num_peaks\n",
    "# The number of peaks found can be smaller than num_peaks, if some\n",
    "# peak in xy0 is nearly degenerate, or if some peak is not found,\n",
    "# in which case the test fails\n",
    "deviations = np.ndarray(num_peaks)\n",
    "for i in range(num_peaks):\n",
    "    deviations[i] = np.linalg.norm(xy0[i] - found_peaks, axis=-1).min()"
   ]
  },
  {
   "cell_type": "code",
   "execution_count": null,
   "metadata": {},
   "outputs": [],
   "source": [
    "%%opts Scatter (size=5)\n",
    "# density plot, with blue dots as real peaks, and red dots as found peaks\n",
    "learner.plot() * hv.Scatter(xy0) * hv.Scatter((learner.unscale(peak_finder(learner.ip()))))"
   ]
  },
  {
   "cell_type": "code",
   "execution_count": null,
   "metadata": {},
   "outputs": [],
   "source": [
    "assert np.all(deviations < radius)"
   ]
  },
  {
   "cell_type": "code",
   "execution_count": null,
   "metadata": {},
   "outputs": [],
   "source": [
    "executor.shutdown()"
   ]
  },
  {
   "cell_type": "code",
   "execution_count": null,
   "metadata": {},
   "outputs": [],
   "source": []
  }
 ],
 "metadata": {
  "kernelspec": {
   "display_name": "Python 3",
   "language": "python",
   "name": "python3"
  },
  "language_info": {
   "codemirror_mode": {
    "name": "ipython",
    "version": 3
   },
   "file_extension": ".py",
   "mimetype": "text/x-python",
   "name": "python",
   "nbconvert_exporter": "python",
   "pygments_lexer": "ipython3",
   "version": "3.6.3"
  }
 },
 "nbformat": 4,
 "nbformat_minor": 2
}
